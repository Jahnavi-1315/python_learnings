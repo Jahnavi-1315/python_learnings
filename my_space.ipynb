{
  "nbformat": 4,
  "nbformat_minor": 0,
  "metadata": {
    "colab": {
      "provenance": [],
      "authorship_tag": "ABX9TyN+mnITXlB67hCnH20hAhwb",
      "include_colab_link": true
    },
    "kernelspec": {
      "name": "python3",
      "display_name": "Python 3"
    },
    "language_info": {
      "name": "python"
    }
  },
  "cells": [
    {
      "cell_type": "markdown",
      "metadata": {
        "id": "view-in-github",
        "colab_type": "text"
      },
      "source": [
        "<a href=\"https://colab.research.google.com/github/Jahnavi-1315/python_learnings/blob/main/my_space.ipynb\" target=\"_parent\"><img src=\"https://colab.research.google.com/assets/colab-badge.svg\" alt=\"Open In Colab\"/></a>"
      ]
    },
    {
      "cell_type": "markdown",
      "source": [
        "**Lets understand python**"
      ],
      "metadata": {
        "id": "owPruo2h1tha"
      }
    },
    {
      "cell_type": "code",
      "source": [
        "#python is a high-level,object-oriented,dynamically typed,interpreted programming language\n",
        "\"\"\"this is a\n",
        "multi line comment\"\"\"\n",
        "print(\"jaanu\")"
      ],
      "metadata": {
        "colab": {
          "base_uri": "https://localhost:8080/"
        },
        "id": "8biDnsEc1xvo",
        "outputId": "5d24a041-44b1-4d72-f446-d458b5166258"
      },
      "execution_count": null,
      "outputs": [
        {
          "output_type": "stream",
          "name": "stdout",
          "text": [
            "jaanu\n"
          ]
        }
      ]
    },
    {
      "cell_type": "markdown",
      "source": [
        "**Numerical data types**"
      ],
      "metadata": {
        "id": "UofWwIqF2TtU"
      }
    },
    {
      "cell_type": "code",
      "source": [
        "print(type(3))\n",
        "print(type(-7))\n",
        "print(type(-2/4))\n",
        "print(type(3.4667))\n",
        "print(type(3-6j))"
      ],
      "metadata": {
        "colab": {
          "base_uri": "https://localhost:8080/"
        },
        "id": "hqMaAmnM2XYW",
        "outputId": "5453cf0a-3ce1-4599-e0da-ce50143341ab"
      },
      "execution_count": null,
      "outputs": [
        {
          "output_type": "stream",
          "name": "stdout",
          "text": [
            "<class 'int'>\n",
            "<class 'int'>\n",
            "<class 'float'>\n",
            "<class 'float'>\n",
            "<class 'complex'>\n"
          ]
        }
      ]
    },
    {
      "cell_type": "markdown",
      "source": [
        "**Arthematic Operators**"
      ],
      "metadata": {
        "id": "alhMVHj-3t6L"
      }
    },
    {
      "cell_type": "code",
      "source": [
        "print(10+8798) #addition\n",
        "print(type(10+8798))\n",
        "print(2349-485) #subtraction\n",
        "print(type(2349-485))\n",
        "print(7374*5675) #multiplication\n",
        "print(type(7374*5675))\n",
        "print(737/455)  #division\n",
        "print(type(737/455))\n",
        "print(6 % 5)  #modulus\n",
        "print(type(10 % 5))\n",
        "print(3 ** 2) #exponential\n",
        "print(type(3 ** 2))\n",
        "print(7//3)\n",
        "print(7/3)\n",
        "print(type(7//3))"
      ],
      "metadata": {
        "colab": {
          "base_uri": "https://localhost:8080/"
        },
        "id": "Rdn_VHwg3xUa",
        "outputId": "356315c6-8c3d-449b-eaea-ed5f1673b286"
      },
      "execution_count": null,
      "outputs": [
        {
          "output_type": "stream",
          "name": "stdout",
          "text": [
            "8808\n",
            "<class 'int'>\n",
            "1864\n",
            "<class 'int'>\n",
            "41847450\n",
            "<class 'int'>\n",
            "1.6197802197802198\n",
            "<class 'float'>\n",
            "1\n",
            "<class 'int'>\n",
            "9\n",
            "<class 'int'>\n",
            "2\n",
            "2.3333333333333335\n",
            "<class 'int'>\n"
          ]
        }
      ]
    },
    {
      "cell_type": "markdown",
      "source": [
        "**Round**"
      ],
      "metadata": {
        "id": "2nQ_-DvD6nIz"
      }
    },
    {
      "cell_type": "code",
      "source": [
        "print(round(23.4556))\n",
        "print(round(23.4336,2))\n",
        "print(round(23.4336,3))\n",
        "print(round(-35.677))\n",
        "print(round(-35.677,2))\n",
        "print(round(3.4))\n",
        "print(round(3.6))"
      ],
      "metadata": {
        "colab": {
          "base_uri": "https://localhost:8080/"
        },
        "id": "m7Qr5e8p6pmx",
        "outputId": "53a19bda-6f92-4414-a9c1-b3ee7edc08e9"
      },
      "execution_count": null,
      "outputs": [
        {
          "output_type": "stream",
          "name": "stdout",
          "text": [
            "23\n",
            "23.43\n",
            "23.434\n",
            "-36\n",
            "-35.68\n",
            "3\n",
            "4\n"
          ]
        }
      ]
    },
    {
      "cell_type": "markdown",
      "source": [
        "**Variables and arthematic operations on variables**"
      ],
      "metadata": {
        "id": "S54TfRwB-mWm"
      }
    },
    {
      "cell_type": "code",
      "source": [
        "a=3\n",
        "b=4\n",
        "print(a+b)\n",
        "print(a-b)\n",
        "print(a*b)\n",
        "print(a/b)\n",
        "print(a//b)\n",
        "print(a%b)"
      ],
      "metadata": {
        "colab": {
          "base_uri": "https://localhost:8080/"
        },
        "id": "zJHMi2Mj-o9V",
        "outputId": "c10fcf14-0fb0-4736-de0c-22bf822a6286"
      },
      "execution_count": null,
      "outputs": [
        {
          "output_type": "stream",
          "name": "stdout",
          "text": [
            "7\n",
            "-1\n",
            "12\n",
            "0.75\n",
            "0\n",
            "3\n"
          ]
        }
      ]
    },
    {
      "cell_type": "code",
      "source": [
        "#case sensitive\n",
        "a=\"hello\"\n",
        "#print(A) it will show A is not defined\n",
        "#python is interpreted\n",
        "b=34\n",
        "c=87\n",
        "b=3\n",
        "c=6\n",
        "print(b+c)# it shows 9 because its executed line by line"
      ],
      "metadata": {
        "colab": {
          "base_uri": "https://localhost:8080/"
        },
        "id": "UHkfP4HR_rDG",
        "outputId": "90f39f9a-e3c4-46c7-fa87-a0c720d328b4"
      },
      "execution_count": null,
      "outputs": [
        {
          "output_type": "stream",
          "name": "stdout",
          "text": [
            "9\n"
          ]
        }
      ]
    },
    {
      "cell_type": "markdown",
      "source": [
        "**Rules to create a variable**"
      ],
      "metadata": {
        "id": "-37JojeBCzGh"
      }
    },
    {
      "cell_type": "code",
      "source": [
        "var_name = 34\n",
        "print(var_name)\n",
        "#9name=83\n",
        "#print(9name)\n",
        "_hdj=37\n",
        "print(_hdj)\n",
        "#v name=38\n",
        "#print(v name)"
      ],
      "metadata": {
        "colab": {
          "base_uri": "https://localhost:8080/"
        },
        "id": "0XuhD_5Q_2f6",
        "outputId": "26cf1878-22d4-424a-c991-7125db7691a4"
      },
      "execution_count": null,
      "outputs": [
        {
          "output_type": "stream",
          "name": "stdout",
          "text": [
            "34\n",
            "37\n"
          ]
        }
      ]
    },
    {
      "cell_type": "code",
      "source": [
        "#creating multiple variables at once and printing them in separate lines\n",
        "a,b,c = 123,234,345\n",
        "print(a,b,c,sep=\"\\n\") #\"\\n\"-> next line"
      ],
      "metadata": {
        "colab": {
          "base_uri": "https://localhost:8080/"
        },
        "id": "MrkAthI7DOo1",
        "outputId": "41dd6d2d-2aae-44ad-d036-a16e1c787467"
      },
      "execution_count": null,
      "outputs": [
        {
          "output_type": "stream",
          "name": "stdout",
          "text": [
            "123\n",
            "234\n",
            "345\n"
          ]
        }
      ]
    },
    {
      "cell_type": "code",
      "source": [
        "#same value to multible variable and print in separate line\n",
        "a=b=c=10\n",
        "print(a,b,c,sep=\"\\n\")"
      ],
      "metadata": {
        "colab": {
          "base_uri": "https://localhost:8080/"
        },
        "id": "74yM4bCbD14F",
        "outputId": "b6bea577-f494-4b7f-e7e7-e7b5b4fdb8f9"
      },
      "execution_count": null,
      "outputs": [
        {
          "output_type": "stream",
          "name": "stdout",
          "text": [
            "10\n",
            "10\n",
            "10\n"
          ]
        }
      ]
    },
    {
      "cell_type": "markdown",
      "source": [
        "**Input**"
      ],
      "metadata": {
        "id": "R-nLUUyAFCq-"
      }
    },
    {
      "cell_type": "code",
      "source": [
        "x=input(\"enter a number:\")\n",
        "print(x)\n",
        "print(type(x))\n",
        "#input type by default is string"
      ],
      "metadata": {
        "colab": {
          "base_uri": "https://localhost:8080/"
        },
        "id": "xokO9gahFF2e",
        "outputId": "1eb12d96-36da-47de-b297-d947861aaee2"
      },
      "execution_count": null,
      "outputs": [
        {
          "output_type": "stream",
          "name": "stdout",
          "text": [
            "enter a number:5.6\n",
            "5.6\n",
            "<class 'str'>\n"
          ]
        }
      ]
    },
    {
      "cell_type": "code",
      "source": [
        "x = int(input(\"enter the number: \"))\n",
        "y = int(input(\"enter the number: \"))\n",
        "print(x + y)\n",
        "print(x - y)\n",
        "print(x * y)\n",
        "print(x / y)\n",
        "print(x % y)\n",
        "print(x ** y)\n",
        "print(x // y)\n",
        "print(x,y)"
      ],
      "metadata": {
        "colab": {
          "base_uri": "https://localhost:8080/"
        },
        "id": "gdqRx4m0GDMy",
        "outputId": "2ecb09e1-0e4d-4653-b5c3-79fa78423eba"
      },
      "execution_count": null,
      "outputs": [
        {
          "output_type": "stream",
          "name": "stdout",
          "text": [
            "enter the number: 5\n",
            "enter the number: 3\n",
            "8\n",
            "2\n",
            "15\n",
            "1.6666666666666667\n",
            "2\n",
            "125\n",
            "1\n",
            "5 3\n"
          ]
        }
      ]
    },
    {
      "cell_type": "markdown",
      "source": [
        "**Strings**"
      ],
      "metadata": {
        "id": "HoGBz2xRQDul"
      }
    },
    {
      "cell_type": "code",
      "source": [
        "print(\"hello\")\n",
        "print(\"hello,i am \\\"jaanu\\\"\")\n",
        "print(type(\"hello,i am \\\"jaanu\\\"\"))\n",
        "a=\"\"\"this is\n",
        "a multi line string\"\"\"\n",
        "print(a)\n",
        "print(type(a))"
      ],
      "metadata": {
        "colab": {
          "base_uri": "https://localhost:8080/"
        },
        "id": "Q8JwLu5AQGvu",
        "outputId": "081597ce-875a-4671-a08f-d928d097332f"
      },
      "execution_count": null,
      "outputs": [
        {
          "output_type": "stream",
          "name": "stdout",
          "text": [
            "hello\n",
            "hello,i am \"jaanu\"\n",
            "<class 'str'>\n",
            "this is \n",
            "a multi line string\n",
            "<class 'str'>\n"
          ]
        }
      ]
    },
    {
      "cell_type": "code",
      "source": [
        "#acessing a character from string\n",
        "b=\"hello jaanu!\"\n",
        "print(b[2])\n",
        "print(b[2:5])\n",
        "print(b[1:12:2])#odd positions\n",
        "print(b[5])#print space\n",
        "print(len(b))\n",
        "print(b[0:12:2])#even positions\n",
        "print(b[-1])\n",
        "print(b[::-1])#reverse the string"
      ],
      "metadata": {
        "colab": {
          "base_uri": "https://localhost:8080/"
        },
        "id": "MOuXFTjwSPNn",
        "outputId": "4c5e2dce-b8c9-493d-f840-f2e1b5a5caab"
      },
      "execution_count": null,
      "outputs": [
        {
          "output_type": "stream",
          "name": "stdout",
          "text": [
            "l\n",
            "llo\n",
            "el an!\n",
            " \n",
            "12\n",
            "hlojau\n",
            "!\n",
            "!unaaj olleh\n"
          ]
        }
      ]
    },
    {
      "cell_type": "code",
      "source": [
        "#check whether the given string is palindrome or not\n",
        "a=\"mom\"\n",
        "if(a[::]==a[::-1]):\n",
        "  print(\"True\")\n",
        "else:\n",
        "  print(\"False\")"
      ],
      "metadata": {
        "colab": {
          "base_uri": "https://localhost:8080/"
        },
        "id": "H4dUePAiTAtT",
        "outputId": "1b340ab6-96f4-4da6-f1cd-53e119cd36f3"
      },
      "execution_count": null,
      "outputs": [
        {
          "output_type": "stream",
          "name": "stdout",
          "text": [
            "True\n"
          ]
        }
      ]
    },
    {
      "cell_type": "code",
      "source": [
        "c=\"sad me\"\n",
        "print(dir(c))"
      ],
      "metadata": {
        "id": "1QnCuC6sVsTp",
        "colab": {
          "base_uri": "https://localhost:8080/"
        },
        "outputId": "35daf886-0f59-4cde-ffc3-8c82fcff6024"
      },
      "execution_count": null,
      "outputs": [
        {
          "output_type": "stream",
          "name": "stdout",
          "text": [
            "['__add__', '__class__', '__contains__', '__delattr__', '__dir__', '__doc__', '__eq__', '__format__', '__ge__', '__getattribute__', '__getitem__', '__getnewargs__', '__gt__', '__hash__', '__init__', '__init_subclass__', '__iter__', '__le__', '__len__', '__lt__', '__mod__', '__mul__', '__ne__', '__new__', '__reduce__', '__reduce_ex__', '__repr__', '__rmod__', '__rmul__', '__setattr__', '__sizeof__', '__str__', '__subclasshook__', 'capitalize', 'casefold', 'center', 'count', 'encode', 'endswith', 'expandtabs', 'find', 'format', 'format_map', 'index', 'isalnum', 'isalpha', 'isascii', 'isdecimal', 'isdigit', 'isidentifier', 'islower', 'isnumeric', 'isprintable', 'isspace', 'istitle', 'isupper', 'join', 'ljust', 'lower', 'lstrip', 'maketrans', 'partition', 'removeprefix', 'removesuffix', 'replace', 'rfind', 'rindex', 'rjust', 'rpartition', 'rsplit', 'rstrip', 'split', 'splitlines', 'startswith', 'strip', 'swapcase', 'title', 'translate', 'upper', 'zfill']\n"
          ]
        }
      ]
    },
    {
      "cell_type": "code",
      "source": [
        "c=\" Sad Me \"\n",
        "print(c.isalpha())\n",
        "print(c.islower())\n",
        "print(c.isalnum())\n",
        "print(c.isupper())\n",
        "print(c.istitle())\n",
        "print(c.isspace())\n",
        "print(c.lstrip())\n",
        "print(c.rstrip())\n",
        "print(c.strip())\n",
        "print(c.capitalize())\n",
        "print(c.zfill(2))\n",
        "print(c.swapcase())"
      ],
      "metadata": {
        "colab": {
          "base_uri": "https://localhost:8080/"
        },
        "id": "x19M_p7XWBio",
        "outputId": "889b10bc-fbe9-47c4-9dcb-4063bca2ea52"
      },
      "execution_count": null,
      "outputs": [
        {
          "output_type": "stream",
          "name": "stdout",
          "text": [
            "False\n",
            "False\n",
            "False\n",
            "False\n",
            "True\n",
            "False\n",
            "Sad Me \n",
            " Sad Me\n",
            "Sad Me\n",
            " sad me \n",
            " Sad Me \n",
            " sAD mE \n"
          ]
        }
      ]
    },
    {
      "cell_type": "code",
      "source": [
        "#replace hello world --> hello universe\n",
        "a=\"hello world\"\n",
        "a.replace(\"world\", \"universe\")\n",
        "print(a)"
      ],
      "metadata": {
        "colab": {
          "base_uri": "https://localhost:8080/"
        },
        "id": "5jwahVvnYG0F",
        "outputId": "63bf17bd-f31c-44be-de91-50c4327e6a90"
      },
      "execution_count": null,
      "outputs": [
        {
          "output_type": "stream",
          "name": "stdout",
          "text": [
            "hello world\n"
          ]
        }
      ]
    },
    {
      "cell_type": "markdown",
      "source": [
        "**String format methods**"
      ],
      "metadata": {
        "id": "y7ErwYa56F1_"
      }
    },
    {
      "cell_type": "code",
      "source": [
        "#strong concatenation\n",
        "a=\"hello\"+\"world\"\n",
        "print(a)"
      ],
      "metadata": {
        "colab": {
          "base_uri": "https://localhost:8080/"
        },
        "id": "-EWpAhZn6IZh",
        "outputId": "58c01310-9fe4-44cd-8054-4cb45e40003f"
      },
      "execution_count": null,
      "outputs": [
        {
          "output_type": "stream",
          "name": "stdout",
          "text": [
            "helloworld\n"
          ]
        }
      ]
    },
    {
      "cell_type": "code",
      "source": [
        "#print my age is 21\n",
        "a=\"my\"+\" age\"+\" is \"+\"21\"\n",
        "print(a)\n",
        "b=10\n",
        "print(\"my age is\",b)\n",
        "c=\"my age is \"\n",
        "d=21\n",
        "print(c+str(d))\n",
        "e=\"my age is {}\"\n",
        "g=21\n",
        "print(e.format(g))\n",
        "e=\"my age is {}\".format(g)\n",
        "g=21\n",
        "print(e)\n",
        "g=21\n",
        "print(f\"my age is {g}\")\n"
      ],
      "metadata": {
        "colab": {
          "base_uri": "https://localhost:8080/"
        },
        "id": "2I0-lbWo6Zuj",
        "outputId": "f2063442-bc9c-4d3e-b113-9e675c8b4c94"
      },
      "execution_count": null,
      "outputs": [
        {
          "output_type": "stream",
          "name": "stdout",
          "text": [
            "my age is 21\n",
            "my age is 10\n",
            "my age is 21\n",
            "my age is 21\n",
            "my age is 21\n",
            "my age is 21\n"
          ]
        }
      ]
    },
    {
      "cell_type": "code",
      "source": [
        "\"your order has been placed for product A  with price of 99.9/- and order quantity is 10 is confirmed.\"\n",
        "item=input()\n",
        "price=int(input())\n",
        "quan1tity=int(input())\n",
        "print(f\"your order has been placed for {item} with price of {price}/- and order quantity is {quantity} is confirmed.\")"
      ],
      "metadata": {
        "colab": {
          "base_uri": "https://localhost:8080/"
        },
        "id": "MURM2BvZ-KDg",
        "outputId": "66087b76-2f1a-4b87-c65f-8149f2f7a25f"
      },
      "execution_count": null,
      "outputs": [
        {
          "output_type": "stream",
          "name": "stdout",
          "text": [
            "mascara\n",
            "350\n",
            "1\n",
            "your order has been placed for mascara with price of 350/- and order quantity is 1 is confirmed.\n"
          ]
        }
      ]
    },
    {
      "cell_type": "markdown",
      "source": [
        "**Conditional statements**"
      ],
      "metadata": {
        "id": "pV1VRUih_Cdc"
      }
    },
    {
      "cell_type": "code",
      "source": [
        "#write a program to print weather ther student is pass or fail?\n",
        "marks=67\n",
        "if(marks>=35):\n",
        "  print(\"you passed\")\n",
        "  print(f\"and your marks are {marks}\")\n",
        "else:\n",
        "  print(\"you failed! try again dude\")"
      ],
      "metadata": {
        "colab": {
          "base_uri": "https://localhost:8080/"
        },
        "id": "11kpnahR_GuI",
        "outputId": "5389fc84-bdbe-4b89-e801-fa9a73864b34"
      },
      "execution_count": null,
      "outputs": [
        {
          "output_type": "stream",
          "name": "stdout",
          "text": [
            "you passed\n",
            "and your marks are 67\n"
          ]
        }
      ]
    },
    {
      "cell_type": "code",
      "source": [
        "#write a program to print the given number is \"+ve\",\"-ve\", or neutral?\n",
        "a=float(input(\"enter a number: \"))\n",
        "if(a>=1):\n",
        "  print(\"the given number is positive\")\n",
        "elif(a==0):\n",
        "  print(\"the given number is neutral\")\n",
        "else:\n",
        "  print(\"the given number is negative\")"
      ],
      "metadata": {
        "colab": {
          "base_uri": "https://localhost:8080/"
        },
        "id": "lQ7sCPowAc2n",
        "outputId": "67d21214-a2d2-497c-d333-e15491af6862"
      },
      "execution_count": null,
      "outputs": [
        {
          "output_type": "stream",
          "name": "stdout",
          "text": [
            "enter a number: -3.566\n",
            "the given number is negative\n"
          ]
        }
      ]
    },
    {
      "cell_type": "code",
      "source": [
        "#writea program to check the given string is palindrome or not?\n",
        "#MOm\n",
        "a=input()\n",
        "a.lower()\n",
        "if(a[::1]==a[::-1]):\n",
        "  print(\"its a palindrome\")\n",
        "else:\n",
        "  print(\"not a palindrome\")"
      ],
      "metadata": {
        "colab": {
          "base_uri": "https://localhost:8080/"
        },
        "id": "SYpUpWjmBMg1",
        "outputId": "47a8a6e2-c877-421c-ac70-22f1a218b1dd"
      },
      "execution_count": null,
      "outputs": [
        {
          "output_type": "stream",
          "name": "stdout",
          "text": [
            "MAdAM\n",
            "its a palindrome\n"
          ]
        }
      ]
    },
    {
      "cell_type": "markdown",
      "source": [
        "**While loop**"
      ],
      "metadata": {
        "id": "Gxf-QoEC_xPA"
      }
    },
    {
      "cell_type": "code",
      "source": [
        "#print 1 to 10 numbers using while loop\n",
        "i=1\n",
        "while i<=10:\n",
        "  print(i)\n",
        "  i=i+1"
      ],
      "metadata": {
        "colab": {
          "base_uri": "https://localhost:8080/"
        },
        "id": "DkPccyzv_0HD",
        "outputId": "458f2806-2141-4023-f539-95a1404ea2a7"
      },
      "execution_count": null,
      "outputs": [
        {
          "output_type": "stream",
          "name": "stdout",
          "text": [
            "1\n",
            "2\n",
            "3\n",
            "4\n",
            "5\n",
            "6\n",
            "7\n",
            "8\n",
            "9\n",
            "10\n"
          ]
        }
      ]
    },
    {
      "cell_type": "code",
      "source": [
        "#write a program to run a lift if the use press button 4 then the lift has to stop.\n",
        "lift=0\n",
        "target=4\n",
        "while lift<=target:\n",
        "  print(f\"the lift is at {lift} floor\")\n",
        "  lift=lift+1"
      ],
      "metadata": {
        "colab": {
          "base_uri": "https://localhost:8080/"
        },
        "id": "lvrX0ARyAiFi",
        "outputId": "e2af61bf-aa3f-4c34-fb45-f54460d9bf5f"
      },
      "execution_count": null,
      "outputs": [
        {
          "output_type": "stream",
          "name": "stdout",
          "text": [
            "the lift is at 0 floor\n",
            "the lift is at 1 floor\n",
            "the lift is at 2 floor\n",
            "the lift is at 3 floor\n",
            "the lift is at 4 floor\n"
          ]
        }
      ]
    },
    {
      "cell_type": "code",
      "source": [
        "\"\"\"step1-> create a class -> customer -> bank\n",
        "step2-> created a object by using variable for ex->c1=customer()\n",
        "step3->cretaing class attributes inside the class->common attributes\n",
        "step4->how to access class attributes by particular object->print(c1.bank_name)\n",
        "step5->cretaed methods inside the class which are nothing but functions inside the class\"\"\"\n",
        "#ex:welcome(),check_balance(),deposit(),withdraw()\n",
        "step6->how to access particular method by particular object->c2.welcome(),c1.deposit()"
      ],
      "metadata": {
        "id": "V7o5Xx3yBSiy"
      },
      "execution_count": null,
      "outputs": []
    }
  ]
}